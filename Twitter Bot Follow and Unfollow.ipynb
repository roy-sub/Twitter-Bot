{
  "nbformat": 4,
  "nbformat_minor": 0,
  "metadata": {
    "colab": {
      "name": "Twitter Bot Follow and Unfollow.ipynb",
      "provenance": [],
      "authorship_tag": "ABX9TyNhB+zmlwc0AfGytCH6xt6z",
      "include_colab_link": true
    },
    "kernelspec": {
      "name": "python3",
      "display_name": "Python 3"
    },
    "language_info": {
      "name": "python"
    }
  },
  "cells": [
    {
      "cell_type": "markdown",
      "metadata": {
        "id": "view-in-github",
        "colab_type": "text"
      },
      "source": [
        "<a href=\"https://colab.research.google.com/github/roy-sub/Twitter-Bot/blob/main/Twitter%20Bot%20Follow%20and%20Unfollow.ipynb\" target=\"_parent\"><img src=\"https://colab.research.google.com/assets/colab-badge.svg\" alt=\"Open In Colab\"/></a>"
      ]
    },
    {
      "cell_type": "code",
      "source": [
        "#import package\n",
        "import tweepy\n",
        "import time\n",
        "\n",
        "#Store Credentials\n",
        "api_key = 'fu1vEE9J3OeuyBLyVSD1YE6yM'\n",
        "api_secret = 'EBaSGRNH6XciDx4oNYoo5aRsaZxbYq7Wv28H9oeINXyH1mrEmP'\n",
        "\n",
        "access_token = '1540748309349879809-jN6j7I5yx3JXqHjxrf58zevqSBM8Co'\n",
        "access_secret = '6GtTKT2BtFT233Lv6ykarfoF7YUTAZ992t8EQ5vRQJ1t7'\n",
        "\n",
        "#Create OAuth client, set authentication and create api object\n",
        "auth = tweepy.OAuthHandler(api_key, api_secret)\n",
        "auth.set_access_token(access_token, access_secret)\n",
        "\n",
        "api = tweepy.API(auth, wait_on_rate_limit=True)\n",
        "\n",
        "def follow_unfollow():\n",
        "  followers = api.followers_ids(api.me().id)\n",
        "  print('Current number of followers : ', len(followers))\n",
        "  friends = api.friends_ids(api.me().id)\n",
        "  print(\"Number of people I follow : \", len(friends))\n",
        "  for follower in followers:\n",
        "      if follower not in friends:\n",
        "          api.create_friendship(follower)\n",
        "  for friend in friends:\n",
        "    if friend not in followers:\n",
        "      api.destroy_friendship(friend)\n",
        "\n",
        "while True:\n",
        "  follow_unfollow()\n",
        "  time.sleep(15)"
      ],
      "metadata": {
        "id": "_gRhTRWek2Qd"
      },
      "execution_count": null,
      "outputs": []
    }
  ]
}