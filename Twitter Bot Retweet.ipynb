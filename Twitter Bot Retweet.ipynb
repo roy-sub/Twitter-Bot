{
  "nbformat": 4,
  "nbformat_minor": 0,
  "metadata": {
    "colab": {
      "name": "Twitter Bot Retweet.ipynb",
      "provenance": [],
      "authorship_tag": "ABX9TyNaq7jm6jI6wPF4DT1jiIPh",
      "include_colab_link": true
    },
    "kernelspec": {
      "name": "python3",
      "display_name": "Python 3"
    },
    "language_info": {
      "name": "python"
    }
  },
  "cells": [
    {
      "cell_type": "markdown",
      "metadata": {
        "id": "view-in-github",
        "colab_type": "text"
      },
      "source": [
        "<a href=\"https://colab.research.google.com/github/roy-sub/Twitter-Bot/blob/main/Twitter%20Bot%20Retweet.ipynb\" target=\"_parent\"><img src=\"https://colab.research.google.com/assets/colab-badge.svg\" alt=\"Open In Colab\"/></a>"
      ]
    },
    {
      "cell_type": "code",
      "execution_count": null,
      "metadata": {
        "id": "npnKBeOy0LHY"
      },
      "outputs": [],
      "source": [
        "#import packages\n",
        "import tweepy\n",
        "import time\n",
        "\n",
        "#Store Credentials\n",
        "api_key = 'fu1vEE9J3OeuyBLyVSD1YE6yM'\n",
        "api_secret = 'EBaSGRNH6XciDx4oNYoo5aRsaZxbYq7Wv28H9oeINXyH1mrEmP'\n",
        "\n",
        "access_token = '1540748309349879809-jN6j7I5yx3JXqHjxrf58zevqSBM8Co'\n",
        "access_secret = '6GtTKT2BtFT233Lv6ykarfoF7YUTAZ992t8EQ5vRQJ1t7'\n",
        "\n",
        "#Create OAuth client, set authentication and create api object\n",
        "auth = tweepy.OAuthHandler(api_key, api_secret)\n",
        "auth.set_access_token(access_token, access_secret)\n",
        "\n",
        "api = tweepy.API(auth, wait_on_rate_limit=True)\n",
        "\n",
        "hashtag = 'MachineLearning'\n",
        "\n",
        "tweets = tweepy.Cursor(api.search, hashtag).items()\n",
        "\n",
        "def search_Bot():\n",
        "  for tweet in tweets:\n",
        "    try:\n",
        "      tweet.retweet()\n",
        "      print('Retweet done')\n",
        "      time.sleep(600)\n",
        "    except tweepy.TweepError as e:\n",
        "      print(e.reason)\n",
        "      time.sleep(2)\n",
        "      continue\n",
        "\n",
        "search_Bot()"
      ]
    }
  ]
}