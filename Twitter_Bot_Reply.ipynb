{
  "nbformat": 4,
  "nbformat_minor": 0,
  "metadata": {
    "colab": {
      "name": "Twitter Bot Reply.ipynb",
      "provenance": [],
      "authorship_tag": "ABX9TyNYyN2so5z1PAk2GVsafNpC",
      "include_colab_link": true
    },
    "kernelspec": {
      "name": "python3",
      "display_name": "Python 3"
    },
    "language_info": {
      "name": "python"
    }
  },
  "cells": [
    {
      "cell_type": "markdown",
      "metadata": {
        "id": "view-in-github",
        "colab_type": "text"
      },
      "source": [
        "<a href=\"https://colab.research.google.com/github/roy-sub/Twitter-Bot/blob/main/Twitter_Bot_Reply.ipynb\" target=\"_parent\"><img src=\"https://colab.research.google.com/assets/colab-badge.svg\" alt=\"Open In Colab\"/></a>"
      ]
    },
    {
      "cell_type": "code",
      "source": [
        "#import package\n",
        "import tweepy\n",
        "import time\n",
        "\n",
        "#Store Credentials\n",
        "api_key = 'fu1vEE9J3OeuyBLyVSD1YE6yM'\n",
        "api_secret = 'EBaSGRNH6XciDx4oNYoo5aRsaZxbYq7Wv28H9oeINXyH1mrEmP'\n",
        "\n",
        "access_token = '1540748309349879809-jN6j7I5yx3JXqHjxrf58zevqSBM8Co'\n",
        "access_secret = '6GtTKT2BtFT233Lv6ykarfoF7YUTAZ992t8EQ5vRQJ1t7'\n",
        "\n",
        "#Create OAuth client, set authentication and create api object\n",
        "auth = tweepy.OAuthHandler(api_key, api_secret)\n",
        "auth.set_access_token(access_token, access_secret)\n",
        "\n",
        "api = tweepy.API(auth, wait_on_rate_limit=True)\n",
        "\n",
        "FILE_NAME = '/content/sample_data/last_seen.txt'\n",
        "\n",
        "def read_last_seen(FILE_NAME):\n",
        "  with open(FILE_NAME, 'r') as f:\n",
        "    last_seen_id = int(f.read().strip())\n",
        "    f.close()\n",
        "    return last_seen_id\n",
        "\n",
        "\n",
        "def store_last_seen(FILE_NAME, last_seen_id):\n",
        "  with open(FILE_NAME, 'w') as f:\n",
        "    f.write(str(last_seen_id))\n",
        "    f.close()\n",
        "    return\n",
        "\n",
        "def reply():\n",
        "  tweets = api.mentions_timeline(read_last_seen(FILE_NAME), tweet_mode = 'extended')\n",
        "  for tweet in reversed(tweets):\n",
        "    if '#hellobot' in tweet.full_text.lower():\n",
        "      print(str(tweet.id) + '-' + tweet.full_text)\n",
        "      api.update_status(\"Hello \"+'@'+tweet.user.screen_name + \". How are you doing?\", tweet.id)\n",
        "      api.create_favorite(tweet.id)\n",
        "      api.retweet(tweet.id)\n",
        "      store_last_seen(FILE_NAME, tweet.id)\n",
        "    else:\n",
        "      print(str(tweet.id) + '-' + tweet.full_text)\n",
        "      # api.update_status('@'+tweet.user.screen_name + \" Auto reply, like and retweet works : no hashtag\", tweet.id)\n",
        "      api.update_status(\"Hello \"+ '@'+tweet.user.screen_name + \" I am glad that you reached out to me. My creater @iam_roysubhra will soon reach out to you.\", tweet.id)\n",
        "      api.create_favorite(tweet.id)\n",
        "      api.retweet(tweet.id)\n",
        "      store_last_seen(FILE_NAME, tweet.id)\n",
        "\n",
        "while True:\n",
        "  reply()\n",
        "  time.sleep(15)\n",
        "\n",
        "#1542916440977616896"
      ],
      "metadata": {
        "id": "ijIFrwy56VY1"
      },
      "execution_count": null,
      "outputs": []
    }
  ]
}